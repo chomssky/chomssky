{
  "cells": [
    {
      "cell_type": "markdown",
      "metadata": {
        "id": "view-in-github",
        "colab_type": "text"
      },
      "source": [
        "<a href=\"https://colab.research.google.com/github/chomssky/chomssky/blob/main/Copy_of_Practice%2BExercise%2B_%2BLooping_Statements.ipynb\" target=\"_parent\"><img src=\"https://colab.research.google.com/assets/colab-badge.svg\" alt=\"Open In Colab\"/></a>"
      ]
    },
    {
      "cell_type": "markdown",
      "metadata": {
        "id": "IUsG1RwoQzX4"
      },
      "source": [
        "# **LOOPING STATEMENTS EXERCISE**"
      ]
    },
    {
      "cell_type": "markdown",
      "metadata": {
        "id": "MugNfAV1QzX7"
      },
      "source": [
        "### 1. Print -10 to -1 using for loop"
      ]
    },
    {
      "cell_type": "code",
      "execution_count": null,
      "metadata": {
        "colab": {
          "base_uri": "https://localhost:8080/"
        },
        "id": "CK14KxsQQzX8",
        "outputId": "c28e9271-50e2-4235-b9e4-eb772f2706b8"
      },
      "outputs": [
        {
          "output_type": "stream",
          "name": "stdout",
          "text": [
            "-10\n",
            "-9\n",
            "-8\n",
            "-7\n",
            "-6\n",
            "-5\n",
            "-4\n",
            "-3\n",
            "-2\n",
            "-1\n"
          ]
        }
      ],
      "source": [
        "for i in range(-10,0):\n",
        "  print(i)"
      ]
    },
    {
      "cell_type": "code",
      "source": [
        "for i in range(-10, -1):\n",
        "  print(i)"
      ],
      "metadata": {
        "colab": {
          "base_uri": "https://localhost:8080/"
        },
        "id": "6g_d54oKTxjk",
        "outputId": "44b9d0c9-1709-41d3-db1d-5850e9850ed8"
      },
      "execution_count": null,
      "outputs": [
        {
          "output_type": "stream",
          "name": "stdout",
          "text": [
            "-10\n",
            "-9\n",
            "-8\n",
            "-7\n",
            "-6\n",
            "-5\n",
            "-4\n",
            "-3\n",
            "-2\n"
          ]
        }
      ]
    },
    {
      "cell_type": "code",
      "source": [
        "for i in range(-10, -1, 1):\n",
        "  print(i)# print a looping statement with starting point (-10), stop point (-1) and an interval of (1)"
      ],
      "metadata": {
        "colab": {
          "base_uri": "https://localhost:8080/"
        },
        "id": "QUUxngNvUTgG",
        "outputId": "6d41d530-70cb-44b5-d376-2d59763b3f4a"
      },
      "execution_count": null,
      "outputs": [
        {
          "output_type": "stream",
          "name": "stdout",
          "text": [
            "-10\n",
            "-9\n",
            "-8\n",
            "-7\n",
            "-6\n",
            "-5\n",
            "-4\n",
            "-3\n",
            "-2\n"
          ]
        }
      ]
    },
    {
      "cell_type": "markdown",
      "metadata": {
        "id": "VI5D_x50QzX9"
      },
      "source": [
        "### 2. Using while loop print numbers 1 to 10"
      ]
    },
    {
      "cell_type": "code",
      "execution_count": null,
      "metadata": {
        "colab": {
          "base_uri": "https://localhost:8080/"
        },
        "id": "C1j_Kza2QzX9",
        "outputId": "55920dbc-33b9-4a03-d06b-a70153110d3c"
      },
      "outputs": [
        {
          "output_type": "stream",
          "name": "stdout",
          "text": [
            "1\n",
            "2\n",
            "3\n",
            "4\n",
            "5\n",
            "6\n",
            "7\n",
            "8\n",
            "9\n",
            "10\n"
          ]
        }
      ],
      "source": [
        "i = 1\n",
        "while i <= 10:\n",
        "  print(i)\n",
        "  i += 1\n"
      ]
    },
    {
      "cell_type": "code",
      "source": [
        "i = 1\n",
        "while i <= 11:\n",
        "  print(i)\n",
        "  i += 2 # print a while looping statement with starting point (1), stop point (20), and an interval of (2)"
      ],
      "metadata": {
        "colab": {
          "base_uri": "https://localhost:8080/"
        },
        "id": "lDzt7PUyVpnm",
        "outputId": "fb272fe1-1f39-4d1e-845b-fd6056c5d5c4"
      },
      "execution_count": null,
      "outputs": [
        {
          "output_type": "stream",
          "name": "stdout",
          "text": [
            "1\n",
            "3\n",
            "5\n",
            "7\n",
            "9\n",
            "11\n"
          ]
        }
      ]
    },
    {
      "cell_type": "code",
      "source": [
        "i = 2\n",
        "while i <= 20:\n",
        "  print(i)\n",
        "  i += 3 # print a while looping statement with starting point (2), stop point (20) and an interval of (3)"
      ],
      "metadata": {
        "colab": {
          "base_uri": "https://localhost:8080/"
        },
        "id": "zo393f0DXYPY",
        "outputId": "475fe41d-2145-4bbe-e777-5a439e5c9be4"
      },
      "execution_count": null,
      "outputs": [
        {
          "output_type": "stream",
          "name": "stdout",
          "text": [
            "2\n",
            "5\n",
            "8\n",
            "11\n",
            "14\n",
            "17\n",
            "20\n"
          ]
        }
      ]
    },
    {
      "cell_type": "code",
      "source": [],
      "metadata": {
        "id": "3EnC6xbsWL4o"
      },
      "execution_count": null,
      "outputs": []
    },
    {
      "cell_type": "markdown",
      "metadata": {
        "id": "RE895pYbQzX9"
      },
      "source": [
        "### 3. Using for loop print first ten even numbers"
      ]
    },
    {
      "cell_type": "code",
      "execution_count": null,
      "metadata": {
        "colab": {
          "base_uri": "https://localhost:8080/"
        },
        "id": "tQZ8QOBGQzX9",
        "outputId": "cef5c95f-f902-4f42-d1c5-9159e2f38a3a"
      },
      "outputs": [
        {
          "output_type": "stream",
          "name": "stdout",
          "text": [
            "2\n",
            "4\n",
            "6\n",
            "8\n",
            "10\n",
            "12\n",
            "14\n",
            "16\n",
            "18\n",
            "20\n"
          ]
        }
      ],
      "source": [
        "for i in range(2,21,2):\n",
        "  print(i) # print a looping statement with starting point (2), stop point (20) and an interval of (2)"
      ]
    },
    {
      "cell_type": "code",
      "source": [
        "for i in range(2,21,3):\n",
        "  print(i) # print a looping statement with starting point (2), stop point (20) and an interval of (3)"
      ],
      "metadata": {
        "colab": {
          "base_uri": "https://localhost:8080/"
        },
        "id": "WWUaIq7iYxpO",
        "outputId": "5745a994-8865-45fd-a7f1-beeac6b52151"
      },
      "execution_count": null,
      "outputs": [
        {
          "output_type": "stream",
          "name": "stdout",
          "text": [
            "2\n",
            "5\n",
            "8\n",
            "11\n",
            "14\n",
            "17\n",
            "20\n"
          ]
        }
      ]
    },
    {
      "cell_type": "code",
      "source": [
        "for i in range(1,41,2):\n",
        "  print(i) # print a looping statement with starting point (1), stop point (40) and an interval of (2)"
      ],
      "metadata": {
        "colab": {
          "base_uri": "https://localhost:8080/"
        },
        "id": "nR-dGrpuZHbo",
        "outputId": "5b30945e-0272-4ba8-8643-a5cefa980b3c"
      },
      "execution_count": null,
      "outputs": [
        {
          "output_type": "stream",
          "name": "stdout",
          "text": [
            "1\n",
            "3\n",
            "5\n",
            "7\n",
            "9\n",
            "11\n",
            "13\n",
            "15\n",
            "17\n",
            "19\n",
            "21\n",
            "23\n",
            "25\n",
            "27\n",
            "29\n",
            "31\n",
            "33\n",
            "35\n",
            "37\n",
            "39\n"
          ]
        }
      ]
    },
    {
      "cell_type": "markdown",
      "metadata": {
        "id": "06rvg9rBQzX-"
      },
      "source": [
        "### 4. Using while loop generate the table of 5"
      ]
    },
    {
      "cell_type": "code",
      "execution_count": null,
      "metadata": {
        "colab": {
          "base_uri": "https://localhost:8080/"
        },
        "id": "COj-d6s9QzX-",
        "outputId": "27e92a72-00c1-4f75-ab85-bf93108ff8f1"
      },
      "outputs": [
        {
          "output_type": "stream",
          "name": "stdout",
          "text": [
            "5\n",
            "10\n",
            "15\n",
            "20\n",
            "25\n",
            "30\n",
            "35\n",
            "40\n",
            "45\n",
            "50\n"
          ]
        }
      ],
      "source": [
        "i = 1\n",
        "while i <= 10:\n",
        "  print(5*i)\n",
        "  i += 1"
      ]
    },
    {
      "cell_type": "code",
      "source": [
        "i = 1\n",
        "while i <= 10:\n",
        "  print(5*i)\n",
        "  i += 2 # print a while looping statement with starting point (1), stop point (10) and an interval of (2)"
      ],
      "metadata": {
        "colab": {
          "base_uri": "https://localhost:8080/"
        },
        "id": "h5GPHRnkiKQu",
        "outputId": "da90ee58-e394-44ff-b99b-ab7976116193"
      },
      "execution_count": null,
      "outputs": [
        {
          "output_type": "stream",
          "name": "stdout",
          "text": [
            "5\n",
            "15\n",
            "25\n",
            "35\n",
            "45\n"
          ]
        }
      ]
    },
    {
      "cell_type": "code",
      "source": [
        "i = 1\n",
        "while i <= 10:\n",
        "  print(7*i)\n",
        "  i += 3 # print a while looping statement with starting point (1), stop point (10) and an interval of (3)"
      ],
      "metadata": {
        "colab": {
          "base_uri": "https://localhost:8080/"
        },
        "id": "wl0YJtP7jR-J",
        "outputId": "681b4d6b-92f9-4f58-9321-7cac0c92a7a1"
      },
      "execution_count": null,
      "outputs": [
        {
          "output_type": "stream",
          "name": "stdout",
          "text": [
            "7\n",
            "28\n",
            "49\n",
            "70\n"
          ]
        }
      ]
    },
    {
      "cell_type": "markdown",
      "metadata": {
        "id": "NnaIVfVIQzX-"
      },
      "source": [
        "### 5. Using for loop generate the table of 8"
      ]
    },
    {
      "cell_type": "code",
      "execution_count": null,
      "metadata": {
        "colab": {
          "base_uri": "https://localhost:8080/"
        },
        "id": "1zZM2cFeQzX-",
        "outputId": "80c7fe23-da7a-4de6-b7b0-1b60a0e4784f"
      },
      "outputs": [
        {
          "output_type": "stream",
          "name": "stdout",
          "text": [
            "8\n",
            "16\n",
            "24\n",
            "32\n",
            "40\n",
            "48\n",
            "56\n",
            "64\n",
            "72\n",
            "80\n"
          ]
        }
      ],
      "source": [
        "for i in range(1,11):\n",
        "  print(8*i) # print a looping statement with starting point (1), stop point (10) and an interval of (1)"
      ]
    },
    {
      "cell_type": "code",
      "source": [
        "for i in range(1,11):\n",
        "  print(6*i) # print a looping statement with starting point (1), stop point (10) and an interval of (2)"
      ],
      "metadata": {
        "colab": {
          "base_uri": "https://localhost:8080/"
        },
        "id": "NcR5BJYpjulE",
        "outputId": "a74ce1e9-ada7-4f43-9c19-2bcf3264adc3"
      },
      "execution_count": null,
      "outputs": [
        {
          "output_type": "stream",
          "name": "stdout",
          "text": [
            "6\n",
            "12\n",
            "18\n",
            "24\n",
            "30\n",
            "36\n",
            "42\n",
            "48\n",
            "54\n",
            "60\n"
          ]
        }
      ]
    },
    {
      "cell_type": "code",
      "source": [
        "for i in range(2,12):\n",
        "  print(9*i) # print a looping statement with starting point (1), stop point (10) and an interval of (3)"
      ],
      "metadata": {
        "colab": {
          "base_uri": "https://localhost:8080/"
        },
        "id": "mtViLM9lj7x2",
        "outputId": "d21a26c0-8fa6-4376-9c93-9dec80fb0eea"
      },
      "execution_count": null,
      "outputs": [
        {
          "output_type": "stream",
          "name": "stdout",
          "text": [
            "18\n",
            "27\n",
            "36\n",
            "45\n",
            "54\n",
            "63\n",
            "72\n",
            "81\n",
            "90\n",
            "99\n"
          ]
        }
      ]
    },
    {
      "cell_type": "markdown",
      "metadata": {
        "id": "pZdNkDnNQzX-"
      },
      "source": [
        "### 6. For numbers 1 to 100, if a number is divisible by 3, then print Fizz.\n",
        "### If a number is divisible by 5, then print Buzz.\n",
        "### If a number is divisible by 3 and 5 both, then print FizzBuzz\n",
        "### If a number is neither divisible by 3 or 5, just print the number.\n",
        "\n",
        "Hint: use range(1,101) function  to generate numbers from 1 to 100"
      ]
    },
    {
      "cell_type": "code",
      "execution_count": null,
      "metadata": {
        "colab": {
          "base_uri": "https://localhost:8080/"
        },
        "id": "JQdXlx3nQzX_",
        "outputId": "c077b461-8e16-4b34-d357-59ce6bad55ef"
      },
      "outputs": [
        {
          "output_type": "stream",
          "name": "stdout",
          "text": [
            "FizzBuzz\n",
            "FizzBuzz\n",
            "FizzBuzz\n",
            "FizzBuzz\n",
            "FizzBuzz\n",
            "FizzBuzz\n"
          ]
        }
      ],
      "source": [
        "for i in range(1,101):\n",
        "  if i % 3 == 0 and i % 5 == 0:\n",
        "    print(\"FizzBuzz\")"
      ]
    },
    {
      "cell_type": "code",
      "source": [
        "for i in range(1,101):\n",
        "  if i % 3 == 0:\n",
        "    print(\"Fizz\")"
      ],
      "metadata": {
        "colab": {
          "base_uri": "https://localhost:8080/"
        },
        "id": "j3MxC1_Bk5J3",
        "outputId": "48003be3-002b-47c7-adab-8d9191d96f87"
      },
      "execution_count": null,
      "outputs": [
        {
          "output_type": "stream",
          "name": "stdout",
          "text": [
            "Fizz\n",
            "Fizz\n",
            "Fizz\n",
            "Fizz\n",
            "Fizz\n",
            "Fizz\n",
            "Fizz\n",
            "Fizz\n",
            "Fizz\n",
            "Fizz\n",
            "Fizz\n",
            "Fizz\n",
            "Fizz\n",
            "Fizz\n",
            "Fizz\n",
            "Fizz\n",
            "Fizz\n",
            "Fizz\n",
            "Fizz\n",
            "Fizz\n",
            "Fizz\n",
            "Fizz\n",
            "Fizz\n",
            "Fizz\n",
            "Fizz\n",
            "Fizz\n",
            "Fizz\n",
            "Fizz\n",
            "Fizz\n",
            "Fizz\n",
            "Fizz\n",
            "Fizz\n",
            "Fizz\n"
          ]
        }
      ]
    },
    {
      "cell_type": "code",
      "source": [
        "for i in range(1,101):\n",
        "  if i % 5 == 0:\n",
        "    print(\"Buzz\")"
      ],
      "metadata": {
        "colab": {
          "base_uri": "https://localhost:8080/"
        },
        "id": "YII0k4BZlAWU",
        "outputId": "6cf56ce8-79ae-49a4-ca0d-e6b0bf477106"
      },
      "execution_count": null,
      "outputs": [
        {
          "output_type": "stream",
          "name": "stdout",
          "text": [
            "Buzz\n",
            "Buzz\n",
            "Buzz\n",
            "Buzz\n",
            "Buzz\n",
            "Buzz\n",
            "Buzz\n",
            "Buzz\n",
            "Buzz\n",
            "Buzz\n",
            "Buzz\n",
            "Buzz\n",
            "Buzz\n",
            "Buzz\n",
            "Buzz\n",
            "Buzz\n",
            "Buzz\n",
            "Buzz\n",
            "Buzz\n",
            "Buzz\n"
          ]
        }
      ]
    },
    {
      "cell_type": "markdown",
      "metadata": {
        "id": "1_Iu74x5QzX_"
      },
      "source": [
        "### 7.  Using the range function find the sum of all numbers from 1 to 100.\n",
        "    For the numbers in the range (1,100):1+2+3+4+5......+100 = 5050"
      ]
    },
    {
      "cell_type": "code",
      "execution_count": null,
      "metadata": {
        "colab": {
          "base_uri": "https://localhost:8080/"
        },
        "id": "qpeCbX4RQzX_",
        "outputId": "f473cbb3-f9e0-4d15-d4af-85ea2e73c732"
      },
      "outputs": [
        {
          "output_type": "stream",
          "name": "stdout",
          "text": [
            "5050\n"
          ]
        }
      ],
      "source": [
        "  sum(range(1,101))\n",
        "  total = 0\n",
        "  for i in range(1,101):\n",
        "    total += i\n",
        "  print(total) # print a looping statement with starting point (1), stop point (100) and an interval of (1)\n"
      ]
    },
    {
      "cell_type": "code",
      "source": [
        "sum(range(1,11))\n",
        "total = 0\n",
        "for i in range(1,11):\n",
        "  total += i\n",
        "print(total) # print a looping statement with starting point (1), stop point (10) and an interval of (1)"
      ],
      "metadata": {
        "colab": {
          "base_uri": "https://localhost:8080/"
        },
        "id": "SgM7JXHC9IrB",
        "outputId": "1a622a56-f704-4c70-d385-5a3bbc43876c"
      },
      "execution_count": null,
      "outputs": [
        {
          "output_type": "stream",
          "name": "stdout",
          "text": [
            "55\n",
            "<built-in function sum>\n"
          ]
        }
      ]
    },
    {
      "cell_type": "code",
      "source": [
        "sum(range(1,101,2))\n",
        "total = 0\n",
        "for i in range(1,101,2):\n",
        "  total += i\n",
        "print(total)"
      ],
      "metadata": {
        "colab": {
          "base_uri": "https://localhost:8080/"
        },
        "id": "huj0OGhqEVsl",
        "outputId": "0a4a36c9-0788-43d9-b56d-fcb3b9a13512"
      },
      "execution_count": null,
      "outputs": [
        {
          "output_type": "stream",
          "name": "stdout",
          "text": [
            "2500\n"
          ]
        }
      ]
    },
    {
      "cell_type": "code",
      "source": [
        "sum(range(1,101,3))\n",
        "total = 0\n",
        "for i in range(1,101,3):\n",
        "  total += i\n",
        "print(total)"
      ],
      "metadata": {
        "colab": {
          "base_uri": "https://localhost:8080/"
        },
        "id": "HQYuDbtLEgji",
        "outputId": "2263544f-d005-455f-bb7b-4f83da4cfc23"
      },
      "execution_count": null,
      "outputs": [
        {
          "output_type": "stream",
          "name": "stdout",
          "text": [
            "1717\n"
          ]
        }
      ]
    },
    {
      "cell_type": "markdown",
      "metadata": {
        "id": "rAsLv7S3QzYA"
      },
      "source": [
        "### 8. Write a program which will find all such numbers which are divisible by 7 but are not a multiple of 5, between 202 and 320 (both included)."
      ]
    },
    {
      "cell_type": "code",
      "execution_count": null,
      "metadata": {
        "id": "86MMunocQzYA",
        "colab": {
          "base_uri": "https://localhost:8080/"
        },
        "outputId": "deb2d86a-c814-49af-8b12-e44da18ba686"
      },
      "outputs": [
        {
          "output_type": "stream",
          "name": "stdout",
          "text": [
            "203\n",
            "217\n",
            "224\n",
            "231\n",
            "238\n",
            "252\n",
            "259\n",
            "266\n",
            "273\n",
            "287\n",
            "294\n",
            "301\n",
            "308\n"
          ]
        }
      ],
      "source": [
        "for i in range(202,321):\n",
        "  if i % 7 == 0 and i % 5 != 0:\n",
        "    print(i) # print a looping statement with starting point (202), stop point (320) and divisible by (7) and not a multiple of (5)"
      ]
    },
    {
      "cell_type": "code",
      "source": [
        "for i in range(202,321):\n",
        "  if i % 7 == 0 and i % 3 == 0:\n",
        "    print(i) # print a looping statement with starting point (202), stop point (320) and divisible by (7) and divisible by (3)"
      ],
      "metadata": {
        "colab": {
          "base_uri": "https://localhost:8080/"
        },
        "id": "vft5jYEZ-Xga",
        "outputId": "2b31777a-137b-4beb-869a-37f1eba19ed2"
      },
      "execution_count": null,
      "outputs": [
        {
          "output_type": "stream",
          "name": "stdout",
          "text": [
            "210\n",
            "231\n",
            "252\n",
            "273\n",
            "294\n",
            "315\n"
          ]
        }
      ]
    },
    {
      "cell_type": "code",
      "source": [
        "for i in range(202,321):\n",
        "  if i % 7 == 0 and i % 5 == 0:\n",
        "    print(i) # print a looping statement with starting point (202), stop point (320) and divisible by (7) and (5)"
      ],
      "metadata": {
        "colab": {
          "base_uri": "https://localhost:8080/"
        },
        "id": "d58erpko9q8m",
        "outputId": "c051f221-2bff-4675-cb67-88c6863534fb"
      },
      "execution_count": null,
      "outputs": [
        {
          "output_type": "stream",
          "name": "stdout",
          "text": [
            "210\n",
            "245\n",
            "280\n",
            "315\n"
          ]
        }
      ]
    },
    {
      "cell_type": "markdown",
      "metadata": {
        "id": "juch2ROxQzYA"
      },
      "source": [
        "### 9. Python Program to count the number of vowels in a string.\n",
        "st = \"Data Science\"\n",
        "\n",
        "Output: No of vowels = 5"
      ]
    },
    {
      "cell_type": "code",
      "execution_count": null,
      "metadata": {
        "id": "X1QnkVRhQzYA",
        "colab": {
          "base_uri": "https://localhost:8080/"
        },
        "outputId": "ef2a29aa-cdc0-4f62-a5b8-e2d831983ccb"
      },
      "outputs": [
        {
          "output_type": "stream",
          "name": "stdout",
          "text": [
            "6\n"
          ]
        }
      ],
      "source": [
        "a = \"Product Management\"\n",
        "count = 0\n",
        "for i in a:\n",
        "  if i == \"a\" or i == \"e\" or i == \"i\" or i == \"o\" or i == \"u\":\n",
        "    count += 1\n",
        "print(count) # count the number of vowels in a string"
      ]
    },
    {
      "cell_type": "code",
      "source": [
        "b = \"Machine Learning\"\n",
        "count = 0\n",
        "for i in b:\n",
        "  if i == \"a\" or i == \"e\" or i == \"i\" or i == \"o\" or i == \"u\":\n",
        "    count += 1\n",
        "print(count) # count the number of vowels in a string"
      ],
      "metadata": {
        "colab": {
          "base_uri": "https://localhost:8080/"
        },
        "id": "Ae9LGpcj_kiX",
        "outputId": "ca47d917-f02c-4ebc-d87a-5683ebec2b5e"
      },
      "execution_count": null,
      "outputs": [
        {
          "output_type": "stream",
          "name": "stdout",
          "text": [
            "6\n"
          ]
        }
      ]
    },
    {
      "cell_type": "code",
      "source": [
        "c = \"Deep Learning\"\n",
        "count = 0\n",
        "for i in c:\n",
        "  if i == \"e\":\n",
        "    count += 1\n",
        "print(count) # count the number of the letter (\"e\") in a string"
      ],
      "metadata": {
        "colab": {
          "base_uri": "https://localhost:8080/"
        },
        "id": "BcgG1yCIAau5",
        "outputId": "3c83f400-ea5f-48c2-c691-3969e5eb5970"
      },
      "execution_count": null,
      "outputs": [
        {
          "output_type": "stream",
          "name": "stdout",
          "text": [
            "3\n"
          ]
        }
      ]
    },
    {
      "cell_type": "code",
      "source": [
        "d = \"Artificial Intelligence\"\n",
        "count = 0\n",
        "for i in d:\n",
        "  if i == \"i\":\n",
        "    count += 1\n",
        "print(count) # count the number of the letter (\"i\") in a string"
      ],
      "metadata": {
        "colab": {
          "base_uri": "https://localhost:8080/"
        },
        "id": "phzMiuEQBDu2",
        "outputId": "5af9c4dd-87a8-4ee2-f498-d663eced66b7"
      },
      "execution_count": null,
      "outputs": [
        {
          "output_type": "stream",
          "name": "stdout",
          "text": [
            "4\n"
          ]
        }
      ]
    },
    {
      "cell_type": "markdown",
      "metadata": {
        "id": "cvaPQVo7QzYA"
      },
      "source": [
        "### 10. Print Data Science 5 times using for loop"
      ]
    },
    {
      "cell_type": "code",
      "execution_count": null,
      "metadata": {
        "id": "YEucQYshQzYA",
        "colab": {
          "base_uri": "https://localhost:8080/"
        },
        "outputId": "1a514f66-a873-4aea-8577-c269cbef3adb"
      },
      "outputs": [
        {
          "output_type": "stream",
          "name": "stdout",
          "text": [
            "Data Science\n",
            "Data Science\n",
            "Data Science\n",
            "Data Science\n",
            "Data Science\n"
          ]
        }
      ],
      "source": [
        "for i in range(1,6):\n",
        "  print(\"Data Science\") # print a looping statement with starting point (1), stop point (6) and an interval of (1)"
      ]
    },
    {
      "cell_type": "code",
      "source": [
        "a = \"Data Science\"\n",
        "print(a*5) # print a statement with \"Data Science\" five (5) times"
      ],
      "metadata": {
        "colab": {
          "base_uri": "https://localhost:8080/"
        },
        "id": "FG1qrlKqBhXG",
        "outputId": "29d69f5b-201f-4eaf-bdc4-d36cb323a26e"
      },
      "execution_count": null,
      "outputs": [
        {
          "output_type": "stream",
          "name": "stdout",
          "text": [
            "Data ScienceData ScienceData ScienceData ScienceData Science\n"
          ]
        }
      ]
    },
    {
      "cell_type": "code",
      "source": [
        "for i in range(1,9):\n",
        "  print(\"Business Intelligence\") # print a looping statement with starting point (1), stop point (9) and an interval of (1)"
      ],
      "metadata": {
        "colab": {
          "base_uri": "https://localhost:8080/"
        },
        "id": "QZtMQyoVCXGp",
        "outputId": "7f31ec90-9afb-4371-b16a-e1dd3de7cd73"
      },
      "execution_count": null,
      "outputs": [
        {
          "output_type": "stream",
          "name": "stdout",
          "text": [
            "Business Intelligence\n",
            "Business Intelligence\n",
            "Business Intelligence\n",
            "Business Intelligence\n",
            "Business Intelligence\n",
            "Business Intelligence\n",
            "Business Intelligence\n",
            "Business Intelligence\n"
          ]
        }
      ]
    }
  ],
  "metadata": {
    "kernelspec": {
      "display_name": "Python 3 (ipykernel)",
      "language": "python",
      "name": "python3"
    },
    "language_info": {
      "codemirror_mode": {
        "name": "ipython",
        "version": 3
      },
      "file_extension": ".py",
      "mimetype": "text/x-python",
      "name": "python",
      "nbconvert_exporter": "python",
      "pygments_lexer": "ipython3",
      "version": "3.9.7"
    },
    "colab": {
      "provenance": [],
      "include_colab_link": true
    }
  },
  "nbformat": 4,
  "nbformat_minor": 0
}