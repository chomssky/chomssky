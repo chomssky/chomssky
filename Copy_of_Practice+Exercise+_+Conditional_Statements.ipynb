{
  "cells": [
    {
      "cell_type": "markdown",
      "metadata": {
        "id": "view-in-github",
        "colab_type": "text"
      },
      "source": [
        "<a href=\"https://colab.research.google.com/github/chomssky/chomssky/blob/main/Copy_of_Practice%2BExercise%2B_%2BConditional_Statements.ipynb\" target=\"_parent\"><img src=\"https://colab.research.google.com/assets/colab-badge.svg\" alt=\"Open In Colab\"/></a>"
      ]
    },
    {
      "cell_type": "markdown",
      "metadata": {
        "id": "UkquKltREjX1"
      },
      "source": [
        "# **CONDITIONAL STATEMENTS EXERCISE**"
      ]
    },
    {
      "cell_type": "markdown",
      "metadata": {
        "id": "bfo6UB-iEjX5"
      },
      "source": [
        "### 1. Check if a is equal to 10, If yes, print \"Hello\", else print \"Good Bye\"\n",
        "a = 56"
      ]
    },
    {
      "cell_type": "code",
      "execution_count": null,
      "metadata": {
        "colab": {
          "base_uri": "https://localhost:8080/"
        },
        "id": "QqVmAKqUEjX6",
        "outputId": "98eb9bc2-84c9-4121-e99a-44705ea699d7"
      },
      "outputs": [
        {
          "output_type": "stream",
          "name": "stdout",
          "text": [
            "Good Bye\n"
          ]
        }
      ],
      "source": [
        "a = 56\n",
        "if a == 10:\n",
        "  print(\"Hello\")\n",
        "else:\n",
        "  print(\"Good Bye\")"
      ]
    },
    {
      "cell_type": "code",
      "source": [
        "a = 56\n",
        "if a > 10:\n",
        "  print(\"Hello\")\n",
        "else:\n",
        "  print(\"Good Bye\")#If a is greater than 10, print \"Hello\", else print \"Good Bye\""
      ],
      "metadata": {
        "colab": {
          "base_uri": "https://localhost:8080/"
        },
        "id": "QYTCE-yRE7k8",
        "outputId": "dc2352ce-5029-417a-b07a-9542e9fb496a"
      },
      "execution_count": null,
      "outputs": [
        {
          "output_type": "stream",
          "name": "stdout",
          "text": [
            "Hello\n"
          ]
        }
      ]
    },
    {
      "cell_type": "code",
      "source": [
        "a = 56\n",
        "if a < 10:\n",
        "  print(\"Hello\")\n",
        "else:\n",
        "  print(\"Good Bye\")#If a is less than 10, print \"Hello\", else print \"Good Bye\""
      ],
      "metadata": {
        "colab": {
          "base_uri": "https://localhost:8080/"
        },
        "id": "GVM6p-aoVnaH",
        "outputId": "e9da845e-a3c8-4168-b44f-a9ff93ae184f"
      },
      "execution_count": null,
      "outputs": [
        {
          "output_type": "stream",
          "name": "stdout",
          "text": [
            "Good Bye\n"
          ]
        }
      ]
    },
    {
      "cell_type": "markdown",
      "metadata": {
        "id": "dqrhvlVnEjX7"
      },
      "source": [
        "### 2. Check whether a number is even or odd\n",
        "a = 2020"
      ]
    },
    {
      "cell_type": "code",
      "execution_count": null,
      "metadata": {
        "colab": {
          "base_uri": "https://localhost:8080/"
        },
        "id": "IB-iVokNEjX7",
        "outputId": "73200035-4707-4332-adf7-2534119310e7"
      },
      "outputs": [
        {
          "output_type": "stream",
          "name": "stdout",
          "text": [
            "Odd\n"
          ]
        }
      ],
      "source": [
        "a = 2020\n",
        "if a % 2 == 1:\n",
        "  print(\"Even\")\n",
        "else:\n",
        "  print(\"Odd\")#If after dividing the number and the remainder gives you 1, it means the number is an odd number"
      ]
    },
    {
      "cell_type": "code",
      "source": [
        "a = 2020\n",
        "if a % 2 == 0:#If after dividing the number and the remainder gives 0, it means the number is an even nember\n",
        "  print(\"Even\")\n",
        "else:\n",
        "  print(\"Odd\")"
      ],
      "metadata": {
        "colab": {
          "base_uri": "https://localhost:8080/"
        },
        "id": "gDTLuwoQc_PL",
        "outputId": "833bf874-b9b0-42c2-ee2b-47603ebdb65d"
      },
      "execution_count": null,
      "outputs": [
        {
          "output_type": "stream",
          "name": "stdout",
          "text": [
            "Even\n"
          ]
        }
      ]
    },
    {
      "cell_type": "markdown",
      "metadata": {
        "id": "S_nUhhchEjX7"
      },
      "source": [
        "### 3.  Check whether the area of the rectangle is greater than the perimeter of the rectangle\n",
        "length = 5\n",
        "breadth = 10\n",
        "\n",
        "Hint: Area of rectangle = length * breadth\n",
        "\n",
        "Hint: Perimeter of rectangle = 2 * (length + breadth)"
      ]
    },
    {
      "cell_type": "code",
      "execution_count": null,
      "metadata": {
        "colab": {
          "base_uri": "https://localhost:8080/"
        },
        "id": "O46H-opuEjX8",
        "outputId": "9297d4c0-6a35-47c8-9d67-c1ab77856392"
      },
      "outputs": [
        {
          "output_type": "stream",
          "name": "stdout",
          "text": [
            "Area of the rectangle is greater than the perimeter of the rectangle\n"
          ]
        }
      ],
      "source": [
        "length = 5\n",
        "breadth = 10\n",
        "if length * breadth > 2 * (length + breadth):\n",
        "  print(\"Area of the rectangle is greater than the perimeter of the rectangle\")"
      ]
    },
    {
      "cell_type": "code",
      "source": [],
      "metadata": {
        "id": "jAhtuBRU1fNy"
      },
      "execution_count": null,
      "outputs": []
    },
    {
      "cell_type": "code",
      "source": [
        "length = 5\n",
        "breadth = 10\n",
        "if length * breadth == 2 * (length + breadth):\n",
        "  print(\"Area of the rectangle is equal to the perimeter of the rectangle\")"
      ],
      "metadata": {
        "id": "gpvU_LKn0az0"
      },
      "execution_count": null,
      "outputs": []
    },
    {
      "cell_type": "code",
      "source": [
        "length = 5\n",
        "breadth = 10\n",
        "if length * breadth != 2 * (length + breadth):\n",
        "  print(\"Area of the rectangle is not equal to the perimeter of the rectangle\")"
      ],
      "metadata": {
        "colab": {
          "base_uri": "https://localhost:8080/"
        },
        "id": "6oGpJznS0rEQ",
        "outputId": "de610ffc-443c-4bea-8ab6-f4f9993fcafc"
      },
      "execution_count": null,
      "outputs": [
        {
          "output_type": "stream",
          "name": "stdout",
          "text": [
            "Area of the rectangle is not equal to the perimeter of the rectangle\n"
          ]
        }
      ]
    },
    {
      "cell_type": "code",
      "source": [
        "length = 5\n",
        "breadth = 10\n",
        "if length * breadth >= 2 * (length + breadth):\n",
        "  print(\"Area of the rectangle is greater than or equal to the perimeter of the rectangle\")"
      ],
      "metadata": {
        "colab": {
          "base_uri": "https://localhost:8080/"
        },
        "id": "LQ-rJjqX08IR",
        "outputId": "c5e15311-db7e-4416-80dd-70ca95c7a2e4"
      },
      "execution_count": null,
      "outputs": [
        {
          "output_type": "stream",
          "name": "stdout",
          "text": [
            "Area of the rectangle is greater than or equal to the perimeter of the rectangle\n"
          ]
        }
      ]
    },
    {
      "cell_type": "code",
      "source": [],
      "metadata": {
        "id": "mV5CMxMW1jZp"
      },
      "execution_count": null,
      "outputs": []
    },
    {
      "cell_type": "code",
      "source": [
        "length = 5\n",
        "breadth = 10\n",
        "if length * breadth < 2 * (length + breadth):\n",
        "  print(\"Area of the rectangle is less than the perimeter of the rectangle\")\n",
        "else:\n",
        "    print(\"Area of the rectangle is not less than the perimeter of the rectangle\")"
      ],
      "metadata": {
        "id": "b5kKjuHX0Kkj",
        "colab": {
          "base_uri": "https://localhost:8080/"
        },
        "outputId": "c9c1cb49-7d14-4487-85ae-f0c75daf0fdd"
      },
      "execution_count": null,
      "outputs": [
        {
          "output_type": "stream",
          "name": "stdout",
          "text": [
            "Area of the rectangle is not less than the perimeter of the rectangle\n"
          ]
        }
      ]
    },
    {
      "cell_type": "markdown",
      "metadata": {
        "id": "bT1AVGqEEjX8"
      },
      "source": [
        "### 4. Calculate the average marks of a student in 5 subjects and give grades accordingly:\n",
        "If average>90 then Grade = A\n",
        "\n",
        "If average>80 then Grade = B\n",
        "\n",
        "If average>70 then Grade = C\n",
        "\n",
        "If average>60 then Grade = D\n",
        "\n",
        "If average>50 then Grade = E\n",
        "\n",
        "else Fail\n",
        "\n",
        "Marks in subject 1= 72\n",
        "\n",
        "Marks in subject 2= 85\n",
        "\n",
        "Marks in subject 3= 96\n",
        "\n",
        "Marks in subject 4= 42\n",
        "\n",
        "Marks in subject 5= 95"
      ]
    },
    {
      "cell_type": "code",
      "execution_count": null,
      "metadata": {
        "id": "LGk-N7N-EjX9"
      },
      "outputs": [],
      "source": [
        "if average_marks>90:\n",
        "  print(\"Grade = A\")\n",
        "  if average_marks>80:\n",
        "    print(\"Grade = B\")\n",
        "    if average_marks>70:\n",
        "      print(\"Grade = C\")\n",
        "      if average_marks>60:\n",
        "        print(\"Grade = D\")\n",
        "        if average_marks>50:\n",
        "          print(\"Grade = E\")\n",
        "subject_1 = 72\n",
        "subject_2 = 85\n",
        "subject_3 = 96\n",
        "subject_4 = 42\n",
        "subject_5 = 95\n"
      ]
    },
    {
      "cell_type": "markdown",
      "metadata": {
        "id": "wQ0A0IkpEjX9"
      },
      "source": [
        "###  5. Check if a triangle is equilateral, isosceles or scalene.\n",
        "\n",
        "Hint :\n",
        "1. An equilateral triangle is a triangle in which all three sides are equal.\n",
        "\n",
        "2. A scalene triangle is a triangle that has three unequal sides.\n",
        "\n",
        "3. An isosceles triangle is a triangle with (at least) two equal sides.\n",
        "\n",
        "Dimensions of triangle:\n",
        "\n",
        "side 1 = 6\n",
        "\n",
        "side 2 = 8\n",
        "\n",
        "side 3 = 12"
      ]
    },
    {
      "cell_type": "code",
      "execution_count": null,
      "metadata": {
        "colab": {
          "base_uri": "https://localhost:8080/"
        },
        "id": "zhczh3h4EjX-",
        "outputId": "89690b1c-d59c-4561-fa60-f5d4f40ec729"
      },
      "outputs": [
        {
          "output_type": "stream",
          "name": "stdout",
          "text": [
            "Not an equilateral triangle\n"
          ]
        }
      ],
      "source": [
        "side_1 = 6\n",
        "side_2 = 8\n",
        "side_3 = 12\n",
        "equilateral_triangle = side_1 == side_2 == side_3\n",
        "if equilateral_triangle:\n",
        "  print(\"Equilateral triangle\")\n",
        "else:\n",
        "  print(\"Not an equilateral triangle\")\n",
        "\n",
        "\n",
        "scalene_triangle = side_1 != side_2 != side_3\n",
        "isosceles_triangle = side_1 == side_2 != side_3"
      ]
    },
    {
      "cell_type": "code",
      "source": [
        "scalene_triangle = side_1 != side_2 != side_3\n",
        "if scalene_triangle:\n",
        "  print(\"Scalene triangle\")\n",
        "else:\n",
        "  print(\"Not a scalene triangle\")"
      ],
      "metadata": {
        "colab": {
          "base_uri": "https://localhost:8080/"
        },
        "id": "DDxYT7E__0JP",
        "outputId": "9207ea56-4abd-4605-b660-45f5d1426215"
      },
      "execution_count": null,
      "outputs": [
        {
          "output_type": "stream",
          "name": "stdout",
          "text": [
            "Scalene triangle\n"
          ]
        }
      ]
    },
    {
      "cell_type": "code",
      "source": [
        "isosceles_triangle = side_1 == side_2 != side_3\n",
        "if isosceles_triangle:\n",
        "  print(\"Isosceles triangle\")\n",
        "else:\n",
        "  print(\"Not an isosceles triangle\")"
      ],
      "metadata": {
        "colab": {
          "base_uri": "https://localhost:8080/"
        },
        "id": "K2ALdpHOANNi",
        "outputId": "7dbec58a-267f-4578-a3be-fe4ba9bebec9"
      },
      "execution_count": null,
      "outputs": [
        {
          "output_type": "stream",
          "name": "stdout",
          "text": [
            "Not an isosceles triangle\n"
          ]
        }
      ]
    },
    {
      "cell_type": "markdown",
      "metadata": {
        "id": "UU4zZGkwEjX-"
      },
      "source": [
        "### 6. Check if the word \"Data\" is present in the sentence \"I am a Data Scientist\". If found print \"It is present\" else print FALSE"
      ]
    },
    {
      "cell_type": "code",
      "execution_count": null,
      "metadata": {
        "colab": {
          "base_uri": "https://localhost:8080/"
        },
        "id": "WWYyLL6bEjX-",
        "outputId": "f669741b-8202-485a-e8c3-8aff722815d1"
      },
      "outputs": [
        {
          "output_type": "stream",
          "name": "stdout",
          "text": [
            "It is present\n"
          ]
        }
      ],
      "source": [
        "a = \"I am a Data Scientist\"\n",
        "if \"Data\" in a:\n",
        "  print(\"It is present\")\n",
        "else:\n",
        "  print(\"False\")"
      ]
    },
    {
      "cell_type": "code",
      "source": [
        "a = \"I am a Data Scientist\"\n",
        "if \"Analyst\" in a:\n",
        "  print(\"It is present\")\n",
        "else:\n",
        "  print(\"It is not present\")"
      ],
      "metadata": {
        "colab": {
          "base_uri": "https://localhost:8080/"
        },
        "id": "C0LT8QY6AzkQ",
        "outputId": "fc132ce9-08ff-4e39-ac5d-5508b89abc89"
      },
      "execution_count": null,
      "outputs": [
        {
          "output_type": "stream",
          "name": "stdout",
          "text": [
            "It is not present\n"
          ]
        }
      ]
    },
    {
      "cell_type": "markdown",
      "metadata": {
        "id": "pAwRMm--EjX_"
      },
      "source": [
        "### 7. Write Python code to check if a number is positive or negative."
      ]
    },
    {
      "cell_type": "code",
      "execution_count": null,
      "metadata": {
        "colab": {
          "base_uri": "https://localhost:8080/"
        },
        "id": "w3ybfcHcEjX_",
        "outputId": "efa024a8-d963-406e-b656-23f605c0bee8"
      },
      "outputs": [
        {
          "output_type": "stream",
          "name": "stdout",
          "text": [
            "Positive\n"
          ]
        }
      ],
      "source": [
        "a = 20\n",
        "if a > 0:\n",
        "  print(\"Positive\")\n",
        "else:\n",
        "  print(\"Negative\")"
      ]
    },
    {
      "cell_type": "code",
      "source": [
        "a = -20\n",
        "if a > 0:\n",
        "  print(\"Positive\")\n",
        "else:\n",
        "  print(\"Negative\")"
      ],
      "metadata": {
        "colab": {
          "base_uri": "https://localhost:8080/"
        },
        "id": "8DDd9XWHHNQY",
        "outputId": "f0ada75a-f515-45ea-8b6e-e266ae166dda"
      },
      "execution_count": null,
      "outputs": [
        {
          "output_type": "stream",
          "name": "stdout",
          "text": [
            "Negative\n"
          ]
        }
      ]
    },
    {
      "cell_type": "code",
      "source": [
        "a = -1\n",
        "if a < 0:\n",
        "  print(\"Positive\")\n",
        "else:\n",
        "  print(\"Negative\")"
      ],
      "metadata": {
        "colab": {
          "base_uri": "https://localhost:8080/"
        },
        "id": "3Kuu2FZfHVjI",
        "outputId": "919469a8-f6d1-472f-b984-8fcd3528c90d"
      },
      "execution_count": null,
      "outputs": [
        {
          "output_type": "stream",
          "name": "stdout",
          "text": [
            "Positive\n"
          ]
        }
      ]
    },
    {
      "cell_type": "markdown",
      "metadata": {
        "id": "Myh0ppBpEjX_"
      },
      "source": [
        "### 8. x = 20 and y = 30. Write a Python code to check if x is less than y."
      ]
    },
    {
      "cell_type": "code",
      "execution_count": null,
      "metadata": {
        "colab": {
          "base_uri": "https://localhost:8080/"
        },
        "id": "9Sg-fKDOEjX_",
        "outputId": "7974e4b8-71ef-49ca-a286-2c484a71bd9b"
      },
      "outputs": [
        {
          "output_type": "stream",
          "name": "stdout",
          "text": [
            "x is less than y\n"
          ]
        }
      ],
      "source": [
        "x = 20\n",
        "y = 30\n",
        "if x < y:\n",
        "  print(\"x is less than y\")\n",
        "else:\n",
        "  print(\"x is not less than y\")"
      ]
    },
    {
      "cell_type": "code",
      "source": [
        "x = 30\n",
        "y = 20\n",
        "if x < y:\n",
        "  print(\"x is less than y\")\n",
        "else:\n",
        "  print(\"x is not less than y\")"
      ],
      "metadata": {
        "colab": {
          "base_uri": "https://localhost:8080/"
        },
        "id": "XhMHQ_e6IKbn",
        "outputId": "afe63277-0660-4f58-cb7e-5aca01bb6c68"
      },
      "execution_count": null,
      "outputs": [
        {
          "output_type": "stream",
          "name": "stdout",
          "text": [
            "x is not less than y\n"
          ]
        }
      ]
    },
    {
      "cell_type": "markdown",
      "metadata": {
        "id": "fmMF1l1_EjYA"
      },
      "source": [
        "### 9. Based on the users age, divide them into three groups\n",
        "    Group 1 : Age <18 , Minors who are not eligible to work\n",
        "    Group 2 : 18 < Age < 60 , Eligible to work\n",
        "    Group 3 : Age > 60, Too old to work as per govt. regulations.\n",
        "\n",
        "### Write a Python code for the same"
      ]
    },
    {
      "cell_type": "code",
      "source": [
        "Age = 17\n",
        "Group_1_Age = Age < 18\n",
        "Group_2_Age = 18 >= Age < 60\n",
        "Group_3_age = Age >= 60\n",
        "if Group_1_Age:\n",
        "  print(\"Minors who are not eligible to work\")\n",
        "elif Group_2_Age:\n",
        "  print(\"Eligible to work\")\n",
        "else:\n",
        "  if Group_3_Age:\n",
        "    print(\"Too old to work as per govt. regulations\")"
      ],
      "metadata": {
        "colab": {
          "base_uri": "https://localhost:8080/"
        },
        "id": "dd16swKXI-4R",
        "outputId": "98e7180c-e603-4739-aea2-04f29febf424"
      },
      "execution_count": null,
      "outputs": [
        {
          "output_type": "stream",
          "name": "stdout",
          "text": [
            "Minors who are not eligible to work\n"
          ]
        }
      ]
    },
    {
      "cell_type": "code",
      "source": [
        "Age = 55\n",
        "Group_1_Age = Age < 18\n",
        "Group_2_Age = 18 >= Age < 60\n",
        "Group_3_age = Age >= 60\n",
        "if Group_1_Age:\n",
        "print(\"Minors who are not eligible to work\")\n",
        "else:\n",
        "  Group_2_Age = \"Eligible to work\"\n",
        "  print(\"Eligible to work\")\n"
      ],
      "metadata": {
        "colab": {
          "base_uri": "https://localhost:8080/",
          "height": 106
        },
        "id": "d7BuTJ4pHJJF",
        "outputId": "320a8e7f-0e19-4beb-9345-33f80649b2a8"
      },
      "execution_count": null,
      "outputs": [
        {
          "output_type": "error",
          "ename": "IndentationError",
          "evalue": "expected an indented block after 'if' statement on line 5 (<ipython-input-1-e54faf8f0814>, line 6)",
          "traceback": [
            "\u001b[0;36m  File \u001b[0;32m\"<ipython-input-1-e54faf8f0814>\"\u001b[0;36m, line \u001b[0;32m6\u001b[0m\n\u001b[0;31m    print(\"Minors who are not eligible to work\")\u001b[0m\n\u001b[0m    ^\u001b[0m\n\u001b[0;31mIndentationError\u001b[0m\u001b[0;31m:\u001b[0m expected an indented block after 'if' statement on line 5\n"
          ]
        }
      ]
    },
    {
      "cell_type": "code",
      "source": [
        "Age = 17 # Assigning a value to the variable Age\n",
        "Group_1_Age = Age <= 18 # Evaluating if Age is less than or equal to 18 and assigning the result to Group_1_Age\n",
        "Group_2_Age = 18 <= Age < 60\n",
        "Group_3_Age = Age >= 60\n",
        "if Group_1_Age:\n",
        "  print(\"Minors who are not eligible to work\")\n",
        "elif Group_2_Age:\n",
        "  print(\"Eligible to work\")\n",
        "else:\n",
        "  if Group_3_Age:\n",
        "    print(\"Too old to work as per govt. regulations\")"
      ],
      "metadata": {
        "colab": {
          "base_uri": "https://localhost:8080/"
        },
        "id": "R_u0_jOSMc6A",
        "outputId": "8416ea79-48bd-4a21-ad4c-89303024e065"
      },
      "execution_count": null,
      "outputs": [
        {
          "output_type": "stream",
          "name": "stdout",
          "text": [
            "Minors who are not eligible to work\n"
          ]
        }
      ]
    },
    {
      "cell_type": "code",
      "execution_count": null,
      "metadata": {
        "colab": {
          "base_uri": "https://localhost:8080/"
        },
        "id": "8c8dgmdjEjYA",
        "outputId": "0d8b1232-2e7e-4928-c4a6-41700212ea60"
      },
      "outputs": [
        {
          "output_type": "stream",
          "name": "stdout",
          "text": [
            "Eligible to work\n"
          ]
        }
      ],
      "source": [
        "Age = 55 # Assigning a value to the variable Age\n",
        "Group_1_Age = Age <= 18 # Evaluating if Age is less than or equal to 18 and assigning the result to Group_1_Age\n",
        "Group_2_Age = 18 <= Age < 60\n",
        "Group_3_Age = Age >= 60\n",
        "if Group_1_Age:\n",
        "  print(\"Minors who are not eligible to work\")\n",
        "elif Group_2_Age:\n",
        "  print(\"Eligible to work\")\n",
        "else:\n",
        "  if Group_3_Age:\n",
        "    print(\"Too old to work as per govt. regulations\")"
      ]
    },
    {
      "cell_type": "code",
      "source": [
        "Age = 61 # Assigning a value to the variable Age\n",
        "Group_1_Age = Age <= 18 # Evaluating if Age is less than or equal to 18 and assigning the result to Group_1_Age\n",
        "Group_2_Age = 18 <= Age < 60\n",
        "Group_3_Age = Age >= 60\n",
        "if Group_1_Age:\n",
        "  print(\"Minors who are not eligible to work\")\n",
        "elif Group_2_Age:\n",
        "  print(\"Eligible to work\")\n",
        "else:\n",
        "  if Group_3_Age:\n",
        "    print(\"Too old to work as per govt. regulations\")"
      ],
      "metadata": {
        "colab": {
          "base_uri": "https://localhost:8080/"
        },
        "id": "BHsZZ_nKMx0L",
        "outputId": "7e1fd802-ce1a-4027-edec-dac1c5e28e57"
      },
      "execution_count": null,
      "outputs": [
        {
          "output_type": "stream",
          "name": "stdout",
          "text": [
            "Too old to work as per govt. regulations\n"
          ]
        }
      ]
    },
    {
      "cell_type": "markdown",
      "metadata": {
        "id": "1RxQb6kBEjYA"
      },
      "source": [
        "### 10. From the age of 3 people determine the oldest person among them.\n",
        "Age of first person = 25\n",
        "\n",
        "Age of second person = 34\n",
        "\n",
        "Age of third person = 45"
      ]
    },
    {
      "cell_type": "code",
      "source": [],
      "metadata": {
        "id": "1-3PPrOvOcit"
      },
      "execution_count": null,
      "outputs": []
    },
    {
      "cell_type": "code",
      "execution_count": null,
      "metadata": {
        "colab": {
          "base_uri": "https://localhost:8080/"
        },
        "id": "bzmbdT09EjYA",
        "outputId": "1ccea329-2498-46ab-9527-ea70e9462246"
      },
      "outputs": [
        {
          "output_type": "stream",
          "name": "stdout",
          "text": [
            "Age of third person is the oldest\n"
          ]
        }
      ],
      "source": [
        "Age_of_first_person = 25\n",
        "Age_of_second_person = 34\n",
        "Age_of_third_person = 45\n",
        "if Age_of_third_person > Age_of_second_person and Age_of_third_person > Age_of_first_person:\n",
        "  print(\"Age of third person is the oldest\")\n",
        "else:\n",
        "    print(\"Age of first person is the youngest\")"
      ]
    },
    {
      "cell_type": "code",
      "source": [],
      "metadata": {
        "id": "e5dxpJuFOfht"
      },
      "execution_count": null,
      "outputs": []
    },
    {
      "cell_type": "code",
      "execution_count": null,
      "metadata": {
        "colab": {
          "base_uri": "https://localhost:8080/"
        },
        "outputId": "fc58ccb8-650e-4314-ea79-9e7a9d871b26",
        "id": "lwN6nVUJOhQ0"
      },
      "outputs": [
        {
          "output_type": "stream",
          "name": "stdout",
          "text": [
            "Age of first person is the youngest\n"
          ]
        }
      ],
      "source": [
        "Age_of_first_person = 25\n",
        "Age_of_second_person = 34\n",
        "Age_of_third_person = 45\n",
        "if Age_of_first_person < Age_of_second_person and Age_of_first_person < Age_of_third_person:\n",
        "  print(\"Age of first person is the youngest\")\n",
        "else:\n",
        "    print(\"Age of third person is the oldest\")"
      ]
    },
    {
      "cell_type": "markdown",
      "source": [
        "# New Section"
      ],
      "metadata": {
        "id": "nleDzYZDPbQc"
      }
    },
    {
      "cell_type": "code",
      "source": [],
      "metadata": {
        "id": "4AkjiyTJOItZ"
      },
      "execution_count": null,
      "outputs": []
    }
  ],
  "metadata": {
    "kernelspec": {
      "display_name": "Python 3 (ipykernel)",
      "language": "python",
      "name": "python3"
    },
    "language_info": {
      "codemirror_mode": {
        "name": "ipython",
        "version": 3
      },
      "file_extension": ".py",
      "mimetype": "text/x-python",
      "name": "python",
      "nbconvert_exporter": "python",
      "pygments_lexer": "ipython3",
      "version": "3.9.7"
    },
    "colab": {
      "provenance": [],
      "include_colab_link": true
    }
  },
  "nbformat": 4,
  "nbformat_minor": 0
}