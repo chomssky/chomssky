{
  "cells": [
    {
      "cell_type": "markdown",
      "metadata": {
        "id": "view-in-github",
        "colab_type": "text"
      },
      "source": [
        "<a href=\"https://colab.research.google.com/github/chomssky/chomssky/blob/main/Copy_of_Practice%2BExercise%2B_%2BFunctions_1.ipynb\" target=\"_parent\"><img src=\"https://colab.research.google.com/assets/colab-badge.svg\" alt=\"Open In Colab\"/></a>"
      ]
    },
    {
      "cell_type": "markdown",
      "metadata": {
        "id": "guW-vRaRFzs5"
      },
      "source": [
        "# **USER DEFINED FUNCTION AND LAMBDA FUNCTIONS EXERCISE**"
      ]
    },
    {
      "cell_type": "markdown",
      "metadata": {
        "id": "z8q16KZBFzs7"
      },
      "source": [
        "### 1. Write a function to add, subtract, multiply and divide two variables passed to it and print the result"
      ]
    },
    {
      "cell_type": "code",
      "execution_count": null,
      "metadata": {
        "colab": {
          "base_uri": "https://localhost:8080/"
        },
        "id": "We6DNhipFzs7",
        "outputId": "c8029d3e-7473-4977-fc25-ee377c8da515"
      },
      "outputs": [
        {
          "output_type": "stream",
          "name": "stdout",
          "text": [
            "15\n",
            "5\n",
            "50\n",
            "2.0\n"
          ]
        }
      ],
      "source": [
        "a = 10\n",
        "b = 5\n",
        "def main():\n",
        "  add(a,b)\n",
        "  sub(a,b)\n",
        "  mul(a,b)\n",
        "  div(a,b)\n",
        "\n",
        "main()"
      ]
    },
    {
      "cell_type": "code",
      "source": [
        "c = a+b\n",
        "print(c)"
      ],
      "metadata": {
        "colab": {
          "base_uri": "https://localhost:8080/"
        },
        "id": "wZ6MymxuHRBH",
        "outputId": "594fb296-0253-489c-dc3f-30c83770cc16"
      },
      "execution_count": null,
      "outputs": [
        {
          "output_type": "stream",
          "name": "stdout",
          "text": [
            "15\n"
          ]
        }
      ]
    },
    {
      "cell_type": "code",
      "source": [
        "d = a-b\n",
        "print(d)"
      ],
      "metadata": {
        "colab": {
          "base_uri": "https://localhost:8080/"
        },
        "id": "dhNHGQGbIz3b",
        "outputId": "7ea4aff9-e515-4c21-eb4e-e120232b3266"
      },
      "execution_count": null,
      "outputs": [
        {
          "output_type": "stream",
          "name": "stdout",
          "text": [
            "5\n"
          ]
        }
      ]
    },
    {
      "cell_type": "code",
      "source": [
        "e = d + c\n",
        "print(e)"
      ],
      "metadata": {
        "colab": {
          "base_uri": "https://localhost:8080/"
        },
        "id": "t7iGy6zJJH2O",
        "outputId": "e495e9c7-e30f-4b99-bb6f-cdd32c772a31"
      },
      "execution_count": null,
      "outputs": [
        {
          "output_type": "stream",
          "name": "stdout",
          "text": [
            "20\n"
          ]
        }
      ]
    },
    {
      "cell_type": "code",
      "source": [
        "ama = 43\n",
        "kofi = 23\n",
        "def main():\n",
        "  add(ama,kofi)\n",
        "  sub(ama,kofi)\n",
        "  mul(ama,kofi)\n",
        "  div(ama,kofi)\n",
        "\n",
        "main()"
      ],
      "metadata": {
        "colab": {
          "base_uri": "https://localhost:8080/"
        },
        "id": "WiYnXoH-Iq-Q",
        "outputId": "1e7c964f-bcb7-402e-f6ea-9d51f3a11cc7"
      },
      "execution_count": null,
      "outputs": [
        {
          "output_type": "stream",
          "name": "stdout",
          "text": [
            "66\n",
            "20\n",
            "989\n",
            "1.8695652173913044\n"
          ]
        }
      ]
    },
    {
      "cell_type": "code",
      "source": [
        "kofi = 43\n",
        "print(\"kofi is\",kofi)\n"
      ],
      "metadata": {
        "colab": {
          "base_uri": "https://localhost:8080/"
        },
        "id": "dCgmSydJJqxK",
        "outputId": "7edccb87-276c-41e2-b15e-5c2e09c41908"
      },
      "execution_count": null,
      "outputs": [
        {
          "output_type": "stream",
          "name": "stdout",
          "text": [
            "kofi is 43\n"
          ]
        }
      ]
    },
    {
      "cell_type": "markdown",
      "metadata": {
        "id": "c2JDjtFwFzs8"
      },
      "source": [
        "### 2. Write a Python function given range (1,10) both included, that gives the square of every number"
      ]
    },
    {
      "cell_type": "code",
      "execution_count": null,
      "metadata": {
        "colab": {
          "base_uri": "https://localhost:8080/"
        },
        "id": "VsBGVe8lFzs8",
        "outputId": "92a35242-7019-43b1-8d09-73eb0c94d25f"
      },
      "outputs": [
        {
          "output_type": "stream",
          "name": "stdout",
          "text": [
            "1\n",
            "4\n",
            "9\n",
            "16\n",
            "25\n",
            "36\n",
            "49\n",
            "64\n",
            "81\n",
            "100\n"
          ]
        }
      ],
      "source": [
        "my_range = range(1,11)\n",
        "for i in my_range:\n",
        "  print(i*i)"
      ]
    },
    {
      "cell_type": "code",
      "source": [
        "my_range = range(1,11,2)\n",
        "for i in my_range:\n",
        "  print(i**2)"
      ],
      "metadata": {
        "colab": {
          "base_uri": "https://localhost:8080/"
        },
        "id": "nK55mlVWKrLR",
        "outputId": "0cedaab2-4070-483c-fbca-5b0ac3fccbd3"
      },
      "execution_count": null,
      "outputs": [
        {
          "output_type": "stream",
          "name": "stdout",
          "text": [
            "1\n",
            "9\n",
            "25\n",
            "49\n",
            "81\n"
          ]
        }
      ]
    },
    {
      "cell_type": "code",
      "source": [
        "my_range = range(1,21,3)\n",
        "for i in my_range:\n",
        "  print(i**3)"
      ],
      "metadata": {
        "colab": {
          "base_uri": "https://localhost:8080/"
        },
        "id": "kto6HfvrLuY9",
        "outputId": "b298df1d-597b-4182-a033-e9077d977123"
      },
      "execution_count": null,
      "outputs": [
        {
          "output_type": "stream",
          "name": "stdout",
          "text": [
            "1\n",
            "64\n",
            "343\n",
            "1000\n",
            "2197\n",
            "4096\n",
            "6859\n"
          ]
        }
      ]
    },
    {
      "cell_type": "markdown",
      "metadata": {
        "id": "vuivjwiSFzs9"
      },
      "source": [
        "### 3. Write a function to calculate simple interest\n",
        "\n",
        "simple interest = (Principal amount * Annual Rate of interest * Time(in years))/100\n",
        "\n",
        "Take values as follows\n",
        "\n",
        "Principal Amount = 1000\n",
        "\n",
        "Rate of interest = 3%\n",
        "\n",
        "Time = 5 years"
      ]
    },
    {
      "cell_type": "code",
      "execution_count": null,
      "metadata": {
        "colab": {
          "base_uri": "https://localhost:8080/"
        },
        "id": "J7aCKcpCFzs9",
        "outputId": "cf206a3a-d289-4a12-997d-a156237caa10"
      },
      "outputs": [
        {
          "output_type": "stream",
          "name": "stdout",
          "text": [
            "150.0\n"
          ]
        }
      ],
      "source": [
        "si = (1000*3*5)/100\n",
        "print(si)"
      ]
    },
    {
      "cell_type": "code",
      "source": [
        "si = (2000*3*6)/100\n",
        "print(si)"
      ],
      "metadata": {
        "colab": {
          "base_uri": "https://localhost:8080/"
        },
        "id": "7vhRaQ9iMRoL",
        "outputId": "b9f011dd-e4cb-4b19-d0d1-3ff5d49872a4"
      },
      "execution_count": null,
      "outputs": [
        {
          "output_type": "stream",
          "name": "stdout",
          "text": [
            "360.0\n"
          ]
        }
      ]
    },
    {
      "cell_type": "code",
      "source": [
        "si = (17000*17*6)/100\n",
        "print(si)"
      ],
      "metadata": {
        "colab": {
          "base_uri": "https://localhost:8080/"
        },
        "id": "_BjxmxdHMiD3",
        "outputId": "482a2e81-366b-4db7-8ad6-9fc36ab1fea7"
      },
      "execution_count": null,
      "outputs": [
        {
          "output_type": "stream",
          "name": "stdout",
          "text": [
            "17340.0\n"
          ]
        }
      ]
    },
    {
      "cell_type": "code",
      "source": [
        "si = (1500000*28*1)/100\n",
        "print(si)"
      ],
      "metadata": {
        "colab": {
          "base_uri": "https://localhost:8080/"
        },
        "id": "FPQT21YeNGzj",
        "outputId": "8c8b2b05-4554-46ed-d8e2-95dcd6891484"
      },
      "execution_count": null,
      "outputs": [
        {
          "output_type": "stream",
          "name": "stdout",
          "text": [
            "420000.0\n"
          ]
        }
      ]
    },
    {
      "cell_type": "code",
      "source": [
        "si = (50000*3*5)/100\n",
        "print(si)\n"
      ],
      "metadata": {
        "colab": {
          "base_uri": "https://localhost:8080/"
        },
        "id": "Ocqsg_D4N-If",
        "outputId": "f2532843-d37c-4833-92ec-8f19458bbf0e"
      },
      "execution_count": null,
      "outputs": [
        {
          "output_type": "stream",
          "name": "stdout",
          "text": [
            "7500.0\n"
          ]
        }
      ]
    },
    {
      "cell_type": "markdown",
      "metadata": {
        "id": "abmMDb5UFzs9"
      },
      "source": [
        "### 4. Write a function to check the number is divisible by 25. The function should return True if divisible and \"Not divisible\" if not"
      ]
    },
    {
      "cell_type": "code",
      "execution_count": null,
      "metadata": {
        "colab": {
          "base_uri": "https://localhost:8080/"
        },
        "id": "DL3V36rgFzs-",
        "outputId": "f7907ddf-2012-46d2-eaae-720771beb6f0"
      },
      "outputs": [
        {
          "output_type": "stream",
          "name": "stdout",
          "text": [
            "divisible\n"
          ]
        }
      ],
      "source": [
        "a = 200\n",
        "if a % 25 == 0:\n",
        "  print(\"divisible\")\n",
        "else:\n",
        "  print(\"not divisible\")"
      ]
    },
    {
      "cell_type": "code",
      "source": [
        "b = 180\n",
        "if b % 25 == 0:\n",
        "  print(\"divisible\")\n",
        "else:\n",
        "  print(\"not divisible\")"
      ],
      "metadata": {
        "colab": {
          "base_uri": "https://localhost:8080/"
        },
        "id": "lPzW9YDKPErT",
        "outputId": "009e6add-5883-4f8d-8a56-7e4c1fb76351"
      },
      "execution_count": null,
      "outputs": [
        {
          "output_type": "stream",
          "name": "stdout",
          "text": [
            "not divisible\n"
          ]
        }
      ]
    },
    {
      "cell_type": "markdown",
      "metadata": {
        "id": "Cps9yYImFzs-"
      },
      "source": [
        "### 5. Define a function that takes an input, squares it, adds 5, then returns the answer"
      ]
    },
    {
      "cell_type": "code",
      "execution_count": null,
      "metadata": {
        "colab": {
          "base_uri": "https://localhost:8080/"
        },
        "id": "54GIIAHCFzs-",
        "outputId": "bbf7a5a8-2417-45ff-d6c8-0217f2ed6507"
      },
      "outputs": [
        {
          "output_type": "stream",
          "name": "stdout",
          "text": [
            "9\n"
          ]
        }
      ],
      "source": [
        "a = 2\n",
        "b = a*a\n",
        "c = b+5\n",
        "print(c)"
      ]
    },
    {
      "cell_type": "code",
      "source": [
        "b = 3\n",
        "c = b*b\n",
        "d = c+7\n",
        "print(d) #takes an input (b), squares it (9), and add 7 and returns it (16)"
      ],
      "metadata": {
        "colab": {
          "base_uri": "https://localhost:8080/"
        },
        "id": "qfrr3Q2WPlDf",
        "outputId": "ad1bdd4f-449e-426a-a0b5-7f4b2cda9b2b"
      },
      "execution_count": null,
      "outputs": [
        {
          "output_type": "stream",
          "name": "stdout",
          "text": [
            "16\n"
          ]
        }
      ]
    },
    {
      "cell_type": "markdown",
      "metadata": {
        "id": "m0HZHGxsFzs_"
      },
      "source": [
        "### 6. Using lambda function perform the following task : take an input, squares it, add 5, then return the answer"
      ]
    },
    {
      "cell_type": "code",
      "execution_count": null,
      "metadata": {
        "colab": {
          "base_uri": "https://localhost:8080/"
        },
        "id": "WCVhGWnwFzs_",
        "outputId": "eb6ac0a2-a2fd-49c2-94ad-f4c1228f3a7a"
      },
      "outputs": [
        {
          "output_type": "stream",
          "name": "stdout",
          "text": [
            "30\n"
          ]
        }
      ],
      "source": [
        "a = lambda x: x*x\n",
        "print(a(5)+5) #takes an input (a), squares it (25), and add 5 and returns it (30)"
      ]
    },
    {
      "cell_type": "code",
      "source": [
        "b = lambda x: x*x\n",
        "print(b(3)+7) #takes an input (b), squares it (9), and add 7 and returns it (16)"
      ],
      "metadata": {
        "colab": {
          "base_uri": "https://localhost:8080/"
        },
        "id": "sprM7PDTQ6WH",
        "outputId": "5cfa8745-4f23-419e-97e3-a2819d3d3926"
      },
      "execution_count": null,
      "outputs": [
        {
          "output_type": "stream",
          "name": "stdout",
          "text": [
            "16\n"
          ]
        }
      ]
    },
    {
      "cell_type": "code",
      "source": [
        "c = lambda x: x*x\n",
        "print(c(4)+9) #takes an input (b), squares it (16), and add 9 and returns it (16)"
      ],
      "metadata": {
        "colab": {
          "base_uri": "https://localhost:8080/"
        },
        "id": "jeH_I5R5RDO7",
        "outputId": "589892c0-266b-4b54-f505-174d4e66cfef"
      },
      "execution_count": null,
      "outputs": [
        {
          "output_type": "stream",
          "name": "stdout",
          "text": [
            "25\n"
          ]
        }
      ]
    },
    {
      "cell_type": "markdown",
      "metadata": {
        "id": "RtFLO7UUFzs_"
      },
      "source": [
        "### 7. Write a function to calculate the power of a number raised to other ($a^b$)"
      ]
    },
    {
      "cell_type": "code",
      "execution_count": null,
      "metadata": {
        "colab": {
          "base_uri": "https://localhost:8080/"
        },
        "id": "f0fM1BeHFzs_",
        "outputId": "a77c6467-1d39-448e-edda-0652adfb6530"
      },
      "outputs": [
        {
          "output_type": "stream",
          "name": "stdout",
          "text": [
            "8\n"
          ]
        }
      ],
      "source": [
        "a = 2\n",
        "b = 3\n",
        "c = a**b\n",
        "print(c)"
      ]
    },
    {
      "cell_type": "code",
      "source": [
        "b = 5\n",
        "c = a**b\n",
        "print(c)"
      ],
      "metadata": {
        "colab": {
          "base_uri": "https://localhost:8080/"
        },
        "id": "wiUF1hVbR3Ff",
        "outputId": "b54bce94-de83-4454-9e28-dc2d2ad731b2"
      },
      "execution_count": null,
      "outputs": [
        {
          "output_type": "stream",
          "name": "stdout",
          "text": [
            "32\n"
          ]
        }
      ]
    },
    {
      "cell_type": "markdown",
      "metadata": {
        "id": "cSsv3OPgFzs_"
      },
      "source": [
        "### 8. Write a function to calculate the area of a triangle\n",
        "\n",
        "area of triangle = 1/2 * base * height"
      ]
    },
    {
      "cell_type": "code",
      "execution_count": null,
      "metadata": {
        "colab": {
          "base_uri": "https://localhost:8080/"
        },
        "id": "47wnRNXyFzs_",
        "outputId": "c45d4a43-becb-4d64-9224-ae6d4d4c04d6"
      },
      "outputs": [
        {
          "output_type": "stream",
          "name": "stdout",
          "text": [
            "3.0\n"
          ]
        }
      ],
      "source": [
        "base = 2\n",
        "height = 3\n",
        "area_of_triangle = (1/2)*2*3\n",
        "print(area_of_triangle)"
      ]
    },
    {
      "cell_type": "code",
      "source": [
        "base = 12\n",
        "height = 15\n",
        "area_of_triangle = (1/2)*12*15\n",
        "print(area_of_triangle)\n"
      ],
      "metadata": {
        "colab": {
          "base_uri": "https://localhost:8080/"
        },
        "id": "ax46qLM1SWZX",
        "outputId": "5745736e-fdd6-4af2-d549-ca19ed5dfb8c"
      },
      "execution_count": null,
      "outputs": [
        {
          "output_type": "stream",
          "name": "stdout",
          "text": [
            "90.0\n",
            "10.0\n"
          ]
        }
      ]
    },
    {
      "cell_type": "markdown",
      "metadata": {
        "id": "qiRnOa46FztA"
      },
      "source": [
        "### 9. Create a function that takes country as the input and returns \"I am from *Country* \""
      ]
    },
    {
      "cell_type": "code",
      "execution_count": null,
      "metadata": {
        "colab": {
          "base_uri": "https://localhost:8080/"
        },
        "id": "AU-g5Nd9FztA",
        "outputId": "dad6cc4b-0930-40c0-8024-a9bef65b6292"
      },
      "outputs": [
        {
          "output_type": "stream",
          "name": "stdout",
          "text": [
            "I am from Ghana\n"
          ]
        }
      ],
      "source": [
        "Country = \"Ghana\"\n",
        "print(\"I am from\",Country)"
      ]
    },
    {
      "cell_type": "code",
      "source": [
        "Country = \"the United States\"\n",
        "print(\"I am from\", Country)"
      ],
      "metadata": {
        "colab": {
          "base_uri": "https://localhost:8080/"
        },
        "id": "32jc3eQATChF",
        "outputId": "3c02aa2d-0375-42a8-dd8d-1d20247aeb48"
      },
      "execution_count": null,
      "outputs": [
        {
          "output_type": "stream",
          "name": "stdout",
          "text": [
            "I am from the United States\n"
          ]
        }
      ]
    },
    {
      "cell_type": "code",
      "source": [
        "Career = \"Data Scientist\"\n",
        "print(\"I am a\", Career)"
      ],
      "metadata": {
        "colab": {
          "base_uri": "https://localhost:8080/"
        },
        "id": "m3KJqm_3TXEj",
        "outputId": "a5331c2c-1d95-4ea6-b67e-9dcffac286af"
      },
      "execution_count": null,
      "outputs": [
        {
          "output_type": "stream",
          "name": "stdout",
          "text": [
            "I am a Data Scientist\n"
          ]
        }
      ]
    },
    {
      "cell_type": "markdown",
      "metadata": {
        "id": "U86s6WMPFztA"
      },
      "source": [
        "### 10. Write a function to convert degree Celsius temperature to Fahrenheit"
      ]
    },
    {
      "cell_type": "code",
      "execution_count": null,
      "metadata": {
        "colab": {
          "base_uri": "https://localhost:8080/"
        },
        "id": "5eF9XTfWFztA",
        "outputId": "d3b7c66a-1037-4c27-8eda-0f0553d91347"
      },
      "outputs": [
        {
          "output_type": "stream",
          "name": "stdout",
          "text": [
            "73.4\n"
          ]
        }
      ],
      "source": [
        "fah = (23*9/5)+32\n",
        "print(fah)"
      ]
    },
    {
      "cell_type": "code",
      "source": [
        "fah = (34*9/5)+32\n",
        "print(fah)"
      ],
      "metadata": {
        "colab": {
          "base_uri": "https://localhost:8080/"
        },
        "id": "6IW0VEdqTs4c",
        "outputId": "27f9363a-0fbc-4f88-afa3-499d672c339e"
      },
      "execution_count": null,
      "outputs": [
        {
          "output_type": "stream",
          "name": "stdout",
          "text": [
            "93.2\n"
          ]
        }
      ]
    },
    {
      "cell_type": "code",
      "source": [
        "fah = (45*9/5)+32\n",
        "print(fah)"
      ],
      "metadata": {
        "colab": {
          "base_uri": "https://localhost:8080/"
        },
        "id": "7iM2FeTUT4mC",
        "outputId": "947ca010-333e-405c-be8d-1b80de9df812"
      },
      "execution_count": null,
      "outputs": [
        {
          "output_type": "stream",
          "name": "stdout",
          "text": [
            "113.0\n"
          ]
        }
      ]
    },
    {
      "cell_type": "code",
      "source": [
        "celcius = 23\n",
        "fahrenheit = (celcius*9/5)+32\n",
        "print(fahrenheit)"
      ],
      "metadata": {
        "colab": {
          "base_uri": "https://localhost:8080/"
        },
        "id": "eSfanmDMT9Te",
        "outputId": "0b9140e5-1b19-4db6-cab8-9a34667d04c5"
      },
      "execution_count": null,
      "outputs": [
        {
          "output_type": "stream",
          "name": "stdout",
          "text": [
            "73.4\n"
          ]
        }
      ]
    },
    {
      "cell_type": "code",
      "source": [
        "fahrenheit = 97\n",
        "celcius = (fahrenheit-32)*5/9\n",
        "print(celcius) #converting 97F into Celcius"
      ],
      "metadata": {
        "colab": {
          "base_uri": "https://localhost:8080/"
        },
        "id": "SPsAZHFyUJWP",
        "outputId": "5a9a794d-1fb0-4dfc-fcf6-7485876302c7"
      },
      "execution_count": null,
      "outputs": [
        {
          "output_type": "stream",
          "name": "stdout",
          "text": [
            "36.111111111111114\n"
          ]
        }
      ]
    }
  ],
  "metadata": {
    "kernelspec": {
      "display_name": "Python 3 (ipykernel)",
      "language": "python",
      "name": "python3"
    },
    "language_info": {
      "codemirror_mode": {
        "name": "ipython",
        "version": 3
      },
      "file_extension": ".py",
      "mimetype": "text/x-python",
      "name": "python",
      "nbconvert_exporter": "python",
      "pygments_lexer": "ipython3",
      "version": "3.9.7"
    },
    "colab": {
      "provenance": [],
      "include_colab_link": true
    }
  },
  "nbformat": 4,
  "nbformat_minor": 0
}